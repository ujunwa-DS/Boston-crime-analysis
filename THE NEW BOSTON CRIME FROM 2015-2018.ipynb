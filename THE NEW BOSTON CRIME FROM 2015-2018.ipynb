{
 "cells": [
  {
   "cell_type": "markdown",
   "id": "0d907327",
   "metadata": {},
   "source": [
    "Boston crime incidence data is analyzed to obtain insights on crime occuring in Boston. This insight helps the law enforcement agency to take precautionary action and when properly done, it reduces the crime rate of boston."
   ]
  },
  {
   "cell_type": "code",
   "execution_count": 1,
   "id": "fe4dd328",
   "metadata": {},
   "outputs": [],
   "source": [
    "import numpy as np\n",
    "import pandas as pd\n",
    "import matplotlib.pyplot as plt\n",
    "import seaborn as sns"
   ]
  },
  {
   "cell_type": "markdown",
   "id": "835e35b3",
   "metadata": {},
   "source": [
    "imported the excel file into pandas"
   ]
  },
  {
   "cell_type": "code",
   "execution_count": 2,
   "id": "ae230b91",
   "metadata": {},
   "outputs": [],
   "source": [
    "crime=pd.read_excel('crimeb.xlsx')"
   ]
  },
  {
   "cell_type": "code",
   "execution_count": 3,
   "id": "c526ee1b",
   "metadata": {},
   "outputs": [
    {
     "data": {
      "text/html": [
       "<div>\n",
       "<style scoped>\n",
       "    .dataframe tbody tr th:only-of-type {\n",
       "        vertical-align: middle;\n",
       "    }\n",
       "\n",
       "    .dataframe tbody tr th {\n",
       "        vertical-align: top;\n",
       "    }\n",
       "\n",
       "    .dataframe thead th {\n",
       "        text-align: right;\n",
       "    }\n",
       "</style>\n",
       "<table border=\"1\" class=\"dataframe\">\n",
       "  <thead>\n",
       "    <tr style=\"text-align: right;\">\n",
       "      <th></th>\n",
       "      <th>INCIDENT_NUMBER</th>\n",
       "      <th>OFFENSE_CODE</th>\n",
       "      <th>OFFENSE_CODE_GROUP</th>\n",
       "      <th>OFFENSE_DESCRIPTION</th>\n",
       "      <th>DISTRICT</th>\n",
       "      <th>REPORTING_AREA</th>\n",
       "      <th>SHOOTING</th>\n",
       "      <th>OCCURRED_ON_DATE</th>\n",
       "      <th>YEAR</th>\n",
       "      <th>MONTH</th>\n",
       "      <th>DAY_OF_WEEK</th>\n",
       "      <th>HOUR</th>\n",
       "      <th>UCR_PART</th>\n",
       "      <th>STREET</th>\n",
       "      <th>Lat</th>\n",
       "      <th>Long</th>\n",
       "      <th>Location</th>\n",
       "    </tr>\n",
       "  </thead>\n",
       "  <tbody>\n",
       "    <tr>\n",
       "      <th>0</th>\n",
       "      <td>I182070945</td>\n",
       "      <td>619</td>\n",
       "      <td>Larceny</td>\n",
       "      <td>LARCENY ALL OTHERS</td>\n",
       "      <td>D14</td>\n",
       "      <td>808</td>\n",
       "      <td>NaN</td>\n",
       "      <td>2018-09-02 13:00:00</td>\n",
       "      <td>2018</td>\n",
       "      <td>9</td>\n",
       "      <td>Sunday</td>\n",
       "      <td>13</td>\n",
       "      <td>Part One</td>\n",
       "      <td>LINCOLN ST</td>\n",
       "      <td>42.357791</td>\n",
       "      <td>-71.139371</td>\n",
       "      <td>(42.35779134, -71.13937053)</td>\n",
       "    </tr>\n",
       "    <tr>\n",
       "      <th>1</th>\n",
       "      <td>I182070943</td>\n",
       "      <td>1402</td>\n",
       "      <td>Vandalism</td>\n",
       "      <td>VANDALISM</td>\n",
       "      <td>C11</td>\n",
       "      <td>347</td>\n",
       "      <td>NaN</td>\n",
       "      <td>2018-08-21 00:00:00</td>\n",
       "      <td>2018</td>\n",
       "      <td>8</td>\n",
       "      <td>Tuesday</td>\n",
       "      <td>0</td>\n",
       "      <td>Part Two</td>\n",
       "      <td>HECLA ST</td>\n",
       "      <td>42.306821</td>\n",
       "      <td>-71.060300</td>\n",
       "      <td>(42.30682138, -71.06030035)</td>\n",
       "    </tr>\n",
       "    <tr>\n",
       "      <th>2</th>\n",
       "      <td>I182070941</td>\n",
       "      <td>3410</td>\n",
       "      <td>Towed</td>\n",
       "      <td>TOWED MOTOR VEHICLE</td>\n",
       "      <td>D4</td>\n",
       "      <td>151</td>\n",
       "      <td>NaN</td>\n",
       "      <td>2018-09-03 19:27:00</td>\n",
       "      <td>2018</td>\n",
       "      <td>9</td>\n",
       "      <td>Monday</td>\n",
       "      <td>19</td>\n",
       "      <td>Part Three</td>\n",
       "      <td>CAZENOVE ST</td>\n",
       "      <td>42.346589</td>\n",
       "      <td>-71.072429</td>\n",
       "      <td>(42.34658879, -71.07242943)</td>\n",
       "    </tr>\n",
       "    <tr>\n",
       "      <th>3</th>\n",
       "      <td>I182070940</td>\n",
       "      <td>3114</td>\n",
       "      <td>Investigate Property</td>\n",
       "      <td>INVESTIGATE PROPERTY</td>\n",
       "      <td>D4</td>\n",
       "      <td>272</td>\n",
       "      <td>NaN</td>\n",
       "      <td>2018-09-03 21:16:00</td>\n",
       "      <td>2018</td>\n",
       "      <td>9</td>\n",
       "      <td>Monday</td>\n",
       "      <td>21</td>\n",
       "      <td>Part Three</td>\n",
       "      <td>NEWCOMB ST</td>\n",
       "      <td>42.334182</td>\n",
       "      <td>-71.078664</td>\n",
       "      <td>(42.33418175, -71.07866441)</td>\n",
       "    </tr>\n",
       "    <tr>\n",
       "      <th>4</th>\n",
       "      <td>I182070938</td>\n",
       "      <td>3114</td>\n",
       "      <td>Investigate Property</td>\n",
       "      <td>INVESTIGATE PROPERTY</td>\n",
       "      <td>B3</td>\n",
       "      <td>421</td>\n",
       "      <td>NaN</td>\n",
       "      <td>2018-09-03 21:05:00</td>\n",
       "      <td>2018</td>\n",
       "      <td>9</td>\n",
       "      <td>Monday</td>\n",
       "      <td>21</td>\n",
       "      <td>Part Three</td>\n",
       "      <td>DELHI ST</td>\n",
       "      <td>42.275365</td>\n",
       "      <td>-71.090361</td>\n",
       "      <td>(42.27536542, -71.09036101)</td>\n",
       "    </tr>\n",
       "    <tr>\n",
       "      <th>...</th>\n",
       "      <td>...</td>\n",
       "      <td>...</td>\n",
       "      <td>...</td>\n",
       "      <td>...</td>\n",
       "      <td>...</td>\n",
       "      <td>...</td>\n",
       "      <td>...</td>\n",
       "      <td>...</td>\n",
       "      <td>...</td>\n",
       "      <td>...</td>\n",
       "      <td>...</td>\n",
       "      <td>...</td>\n",
       "      <td>...</td>\n",
       "      <td>...</td>\n",
       "      <td>...</td>\n",
       "      <td>...</td>\n",
       "      <td>...</td>\n",
       "    </tr>\n",
       "    <tr>\n",
       "      <th>319068</th>\n",
       "      <td>I050310906-00</td>\n",
       "      <td>3125</td>\n",
       "      <td>Warrant Arrests</td>\n",
       "      <td>WARRANT ARREST</td>\n",
       "      <td>D4</td>\n",
       "      <td>285</td>\n",
       "      <td>NaN</td>\n",
       "      <td>2016-06-05 17:25:00</td>\n",
       "      <td>2016</td>\n",
       "      <td>6</td>\n",
       "      <td>Sunday</td>\n",
       "      <td>17</td>\n",
       "      <td>Part Three</td>\n",
       "      <td>COVENTRY ST</td>\n",
       "      <td>42.336951</td>\n",
       "      <td>-71.085748</td>\n",
       "      <td>(42.33695098, -71.08574813)</td>\n",
       "    </tr>\n",
       "    <tr>\n",
       "      <th>319069</th>\n",
       "      <td>I030217815-08</td>\n",
       "      <td>111</td>\n",
       "      <td>Homicide</td>\n",
       "      <td>MURDER, NON-NEGLIGIENT MANSLAUGHTER</td>\n",
       "      <td>E18</td>\n",
       "      <td>520</td>\n",
       "      <td>NaN</td>\n",
       "      <td>2015-07-09 13:38:00</td>\n",
       "      <td>2015</td>\n",
       "      <td>7</td>\n",
       "      <td>Thursday</td>\n",
       "      <td>13</td>\n",
       "      <td>Part One</td>\n",
       "      <td>RIVER ST</td>\n",
       "      <td>42.255926</td>\n",
       "      <td>-71.123172</td>\n",
       "      <td>(42.25592648, -71.12317207)</td>\n",
       "    </tr>\n",
       "    <tr>\n",
       "      <th>319070</th>\n",
       "      <td>I030217815-08</td>\n",
       "      <td>3125</td>\n",
       "      <td>Warrant Arrests</td>\n",
       "      <td>WARRANT ARREST</td>\n",
       "      <td>E18</td>\n",
       "      <td>520</td>\n",
       "      <td>NaN</td>\n",
       "      <td>2015-07-09 13:38:00</td>\n",
       "      <td>2015</td>\n",
       "      <td>7</td>\n",
       "      <td>Thursday</td>\n",
       "      <td>13</td>\n",
       "      <td>Part Three</td>\n",
       "      <td>RIVER ST</td>\n",
       "      <td>42.255926</td>\n",
       "      <td>-71.123172</td>\n",
       "      <td>(42.25592648, -71.12317207)</td>\n",
       "    </tr>\n",
       "    <tr>\n",
       "      <th>319071</th>\n",
       "      <td>I010370257-00</td>\n",
       "      <td>3125</td>\n",
       "      <td>Warrant Arrests</td>\n",
       "      <td>WARRANT ARREST</td>\n",
       "      <td>E13</td>\n",
       "      <td>569</td>\n",
       "      <td>NaN</td>\n",
       "      <td>2016-05-31 19:35:00</td>\n",
       "      <td>2016</td>\n",
       "      <td>5</td>\n",
       "      <td>Tuesday</td>\n",
       "      <td>19</td>\n",
       "      <td>Part Three</td>\n",
       "      <td>NEW WASHINGTON ST</td>\n",
       "      <td>42.302333</td>\n",
       "      <td>-71.111565</td>\n",
       "      <td>(42.30233307, -71.11156487)</td>\n",
       "    </tr>\n",
       "    <tr>\n",
       "      <th>319072</th>\n",
       "      <td>142052550</td>\n",
       "      <td>3125</td>\n",
       "      <td>Warrant Arrests</td>\n",
       "      <td>WARRANT ARREST</td>\n",
       "      <td>D4</td>\n",
       "      <td>903</td>\n",
       "      <td>NaN</td>\n",
       "      <td>2015-06-22 00:12:00</td>\n",
       "      <td>2015</td>\n",
       "      <td>6</td>\n",
       "      <td>Monday</td>\n",
       "      <td>0</td>\n",
       "      <td>Part Three</td>\n",
       "      <td>WASHINGTON ST</td>\n",
       "      <td>42.333839</td>\n",
       "      <td>-71.080290</td>\n",
       "      <td>(42.33383935, -71.08029038)</td>\n",
       "    </tr>\n",
       "  </tbody>\n",
       "</table>\n",
       "<p>319073 rows × 17 columns</p>\n",
       "</div>"
      ],
      "text/plain": [
       "       INCIDENT_NUMBER  OFFENSE_CODE    OFFENSE_CODE_GROUP  \\\n",
       "0           I182070945           619               Larceny   \n",
       "1           I182070943          1402             Vandalism   \n",
       "2           I182070941          3410                 Towed   \n",
       "3           I182070940          3114  Investigate Property   \n",
       "4           I182070938          3114  Investigate Property   \n",
       "...                ...           ...                   ...   \n",
       "319068   I050310906-00          3125       Warrant Arrests   \n",
       "319069   I030217815-08           111              Homicide   \n",
       "319070   I030217815-08          3125       Warrant Arrests   \n",
       "319071   I010370257-00          3125       Warrant Arrests   \n",
       "319072       142052550          3125       Warrant Arrests   \n",
       "\n",
       "                        OFFENSE_DESCRIPTION DISTRICT REPORTING_AREA SHOOTING  \\\n",
       "0                        LARCENY ALL OTHERS      D14            808      NaN   \n",
       "1                                 VANDALISM      C11            347      NaN   \n",
       "2                       TOWED MOTOR VEHICLE       D4            151      NaN   \n",
       "3                      INVESTIGATE PROPERTY       D4            272      NaN   \n",
       "4                      INVESTIGATE PROPERTY       B3            421      NaN   \n",
       "...                                     ...      ...            ...      ...   \n",
       "319068                       WARRANT ARREST       D4            285      NaN   \n",
       "319069  MURDER, NON-NEGLIGIENT MANSLAUGHTER      E18            520      NaN   \n",
       "319070                       WARRANT ARREST      E18            520      NaN   \n",
       "319071                       WARRANT ARREST      E13            569      NaN   \n",
       "319072                       WARRANT ARREST       D4            903      NaN   \n",
       "\n",
       "          OCCURRED_ON_DATE  YEAR  MONTH DAY_OF_WEEK  HOUR    UCR_PART  \\\n",
       "0      2018-09-02 13:00:00  2018      9      Sunday    13    Part One   \n",
       "1      2018-08-21 00:00:00  2018      8     Tuesday     0    Part Two   \n",
       "2      2018-09-03 19:27:00  2018      9      Monday    19  Part Three   \n",
       "3      2018-09-03 21:16:00  2018      9      Monday    21  Part Three   \n",
       "4      2018-09-03 21:05:00  2018      9      Monday    21  Part Three   \n",
       "...                    ...   ...    ...         ...   ...         ...   \n",
       "319068 2016-06-05 17:25:00  2016      6      Sunday    17  Part Three   \n",
       "319069 2015-07-09 13:38:00  2015      7    Thursday    13    Part One   \n",
       "319070 2015-07-09 13:38:00  2015      7    Thursday    13  Part Three   \n",
       "319071 2016-05-31 19:35:00  2016      5     Tuesday    19  Part Three   \n",
       "319072 2015-06-22 00:12:00  2015      6      Monday     0  Part Three   \n",
       "\n",
       "                   STREET        Lat       Long                     Location  \n",
       "0              LINCOLN ST  42.357791 -71.139371  (42.35779134, -71.13937053)  \n",
       "1                HECLA ST  42.306821 -71.060300  (42.30682138, -71.06030035)  \n",
       "2             CAZENOVE ST  42.346589 -71.072429  (42.34658879, -71.07242943)  \n",
       "3              NEWCOMB ST  42.334182 -71.078664  (42.33418175, -71.07866441)  \n",
       "4                DELHI ST  42.275365 -71.090361  (42.27536542, -71.09036101)  \n",
       "...                   ...        ...        ...                          ...  \n",
       "319068        COVENTRY ST  42.336951 -71.085748  (42.33695098, -71.08574813)  \n",
       "319069           RIVER ST  42.255926 -71.123172  (42.25592648, -71.12317207)  \n",
       "319070           RIVER ST  42.255926 -71.123172  (42.25592648, -71.12317207)  \n",
       "319071  NEW WASHINGTON ST  42.302333 -71.111565  (42.30233307, -71.11156487)  \n",
       "319072      WASHINGTON ST  42.333839 -71.080290  (42.33383935, -71.08029038)  \n",
       "\n",
       "[319073 rows x 17 columns]"
      ]
     },
     "execution_count": 3,
     "metadata": {},
     "output_type": "execute_result"
    }
   ],
   "source": [
    "crime"
   ]
  },
  {
   "cell_type": "code",
   "execution_count": 4,
   "id": "28a63d35",
   "metadata": {},
   "outputs": [
    {
     "data": {
      "text/html": [
       "<div>\n",
       "<style scoped>\n",
       "    .dataframe tbody tr th:only-of-type {\n",
       "        vertical-align: middle;\n",
       "    }\n",
       "\n",
       "    .dataframe tbody tr th {\n",
       "        vertical-align: top;\n",
       "    }\n",
       "\n",
       "    .dataframe thead th {\n",
       "        text-align: right;\n",
       "    }\n",
       "</style>\n",
       "<table border=\"1\" class=\"dataframe\">\n",
       "  <thead>\n",
       "    <tr style=\"text-align: right;\">\n",
       "      <th></th>\n",
       "      <th>INCIDENT_NUMBER</th>\n",
       "      <th>OFFENSE_CODE</th>\n",
       "      <th>OFFENSE_CODE_GROUP</th>\n",
       "      <th>OFFENSE_DESCRIPTION</th>\n",
       "      <th>DISTRICT</th>\n",
       "      <th>REPORTING_AREA</th>\n",
       "      <th>SHOOTING</th>\n",
       "      <th>OCCURRED_ON_DATE</th>\n",
       "      <th>YEAR</th>\n",
       "      <th>MONTH</th>\n",
       "      <th>DAY_OF_WEEK</th>\n",
       "      <th>HOUR</th>\n",
       "      <th>UCR_PART</th>\n",
       "      <th>STREET</th>\n",
       "      <th>Lat</th>\n",
       "      <th>Long</th>\n",
       "      <th>Location</th>\n",
       "    </tr>\n",
       "  </thead>\n",
       "  <tbody>\n",
       "    <tr>\n",
       "      <th>0</th>\n",
       "      <td>I182070945</td>\n",
       "      <td>619</td>\n",
       "      <td>Larceny</td>\n",
       "      <td>LARCENY ALL OTHERS</td>\n",
       "      <td>D14</td>\n",
       "      <td>808</td>\n",
       "      <td>NaN</td>\n",
       "      <td>2018-09-02 13:00:00</td>\n",
       "      <td>2018</td>\n",
       "      <td>9</td>\n",
       "      <td>Sunday</td>\n",
       "      <td>13</td>\n",
       "      <td>Part One</td>\n",
       "      <td>LINCOLN ST</td>\n",
       "      <td>42.357791</td>\n",
       "      <td>-71.139371</td>\n",
       "      <td>(42.35779134, -71.13937053)</td>\n",
       "    </tr>\n",
       "    <tr>\n",
       "      <th>1</th>\n",
       "      <td>I182070943</td>\n",
       "      <td>1402</td>\n",
       "      <td>Vandalism</td>\n",
       "      <td>VANDALISM</td>\n",
       "      <td>C11</td>\n",
       "      <td>347</td>\n",
       "      <td>NaN</td>\n",
       "      <td>2018-08-21 00:00:00</td>\n",
       "      <td>2018</td>\n",
       "      <td>8</td>\n",
       "      <td>Tuesday</td>\n",
       "      <td>0</td>\n",
       "      <td>Part Two</td>\n",
       "      <td>HECLA ST</td>\n",
       "      <td>42.306821</td>\n",
       "      <td>-71.060300</td>\n",
       "      <td>(42.30682138, -71.06030035)</td>\n",
       "    </tr>\n",
       "    <tr>\n",
       "      <th>2</th>\n",
       "      <td>I182070941</td>\n",
       "      <td>3410</td>\n",
       "      <td>Towed</td>\n",
       "      <td>TOWED MOTOR VEHICLE</td>\n",
       "      <td>D4</td>\n",
       "      <td>151</td>\n",
       "      <td>NaN</td>\n",
       "      <td>2018-09-03 19:27:00</td>\n",
       "      <td>2018</td>\n",
       "      <td>9</td>\n",
       "      <td>Monday</td>\n",
       "      <td>19</td>\n",
       "      <td>Part Three</td>\n",
       "      <td>CAZENOVE ST</td>\n",
       "      <td>42.346589</td>\n",
       "      <td>-71.072429</td>\n",
       "      <td>(42.34658879, -71.07242943)</td>\n",
       "    </tr>\n",
       "    <tr>\n",
       "      <th>3</th>\n",
       "      <td>I182070940</td>\n",
       "      <td>3114</td>\n",
       "      <td>Investigate Property</td>\n",
       "      <td>INVESTIGATE PROPERTY</td>\n",
       "      <td>D4</td>\n",
       "      <td>272</td>\n",
       "      <td>NaN</td>\n",
       "      <td>2018-09-03 21:16:00</td>\n",
       "      <td>2018</td>\n",
       "      <td>9</td>\n",
       "      <td>Monday</td>\n",
       "      <td>21</td>\n",
       "      <td>Part Three</td>\n",
       "      <td>NEWCOMB ST</td>\n",
       "      <td>42.334182</td>\n",
       "      <td>-71.078664</td>\n",
       "      <td>(42.33418175, -71.07866441)</td>\n",
       "    </tr>\n",
       "    <tr>\n",
       "      <th>4</th>\n",
       "      <td>I182070938</td>\n",
       "      <td>3114</td>\n",
       "      <td>Investigate Property</td>\n",
       "      <td>INVESTIGATE PROPERTY</td>\n",
       "      <td>B3</td>\n",
       "      <td>421</td>\n",
       "      <td>NaN</td>\n",
       "      <td>2018-09-03 21:05:00</td>\n",
       "      <td>2018</td>\n",
       "      <td>9</td>\n",
       "      <td>Monday</td>\n",
       "      <td>21</td>\n",
       "      <td>Part Three</td>\n",
       "      <td>DELHI ST</td>\n",
       "      <td>42.275365</td>\n",
       "      <td>-71.090361</td>\n",
       "      <td>(42.27536542, -71.09036101)</td>\n",
       "    </tr>\n",
       "  </tbody>\n",
       "</table>\n",
       "</div>"
      ],
      "text/plain": [
       "  INCIDENT_NUMBER  OFFENSE_CODE    OFFENSE_CODE_GROUP   OFFENSE_DESCRIPTION  \\\n",
       "0      I182070945           619               Larceny    LARCENY ALL OTHERS   \n",
       "1      I182070943          1402             Vandalism             VANDALISM   \n",
       "2      I182070941          3410                 Towed   TOWED MOTOR VEHICLE   \n",
       "3      I182070940          3114  Investigate Property  INVESTIGATE PROPERTY   \n",
       "4      I182070938          3114  Investigate Property  INVESTIGATE PROPERTY   \n",
       "\n",
       "  DISTRICT REPORTING_AREA SHOOTING    OCCURRED_ON_DATE  YEAR  MONTH  \\\n",
       "0      D14            808      NaN 2018-09-02 13:00:00  2018      9   \n",
       "1      C11            347      NaN 2018-08-21 00:00:00  2018      8   \n",
       "2       D4            151      NaN 2018-09-03 19:27:00  2018      9   \n",
       "3       D4            272      NaN 2018-09-03 21:16:00  2018      9   \n",
       "4       B3            421      NaN 2018-09-03 21:05:00  2018      9   \n",
       "\n",
       "  DAY_OF_WEEK  HOUR    UCR_PART       STREET        Lat       Long  \\\n",
       "0      Sunday    13    Part One   LINCOLN ST  42.357791 -71.139371   \n",
       "1     Tuesday     0    Part Two     HECLA ST  42.306821 -71.060300   \n",
       "2      Monday    19  Part Three  CAZENOVE ST  42.346589 -71.072429   \n",
       "3      Monday    21  Part Three   NEWCOMB ST  42.334182 -71.078664   \n",
       "4      Monday    21  Part Three     DELHI ST  42.275365 -71.090361   \n",
       "\n",
       "                      Location  \n",
       "0  (42.35779134, -71.13937053)  \n",
       "1  (42.30682138, -71.06030035)  \n",
       "2  (42.34658879, -71.07242943)  \n",
       "3  (42.33418175, -71.07866441)  \n",
       "4  (42.27536542, -71.09036101)  "
      ]
     },
     "execution_count": 4,
     "metadata": {},
     "output_type": "execute_result"
    }
   ],
   "source": [
    "crime.head()"
   ]
  },
  {
   "cell_type": "markdown",
   "id": "8247d7a7",
   "metadata": {},
   "source": [
    "using isnull to check how many null value present in the data "
   ]
  },
  {
   "cell_type": "code",
   "execution_count": 5,
   "id": "7325d1f9",
   "metadata": {},
   "outputs": [
    {
     "data": {
      "text/plain": [
       "INCIDENT_NUMBER             0\n",
       "OFFENSE_CODE                0\n",
       "OFFENSE_CODE_GROUP          0\n",
       "OFFENSE_DESCRIPTION         0\n",
       "DISTRICT                 1765\n",
       "REPORTING_AREA              0\n",
       "SHOOTING               318054\n",
       "OCCURRED_ON_DATE            0\n",
       "YEAR                        0\n",
       "MONTH                       0\n",
       "DAY_OF_WEEK                 0\n",
       "HOUR                        0\n",
       "UCR_PART                   90\n",
       "STREET                  10871\n",
       "Lat                     19999\n",
       "Long                    19999\n",
       "Location                    0\n",
       "dtype: int64"
      ]
     },
     "execution_count": 5,
     "metadata": {},
     "output_type": "execute_result"
    }
   ],
   "source": [
    "crime.isnull().sum()"
   ]
  },
  {
   "cell_type": "markdown",
   "id": "2cf8fd6c",
   "metadata": {},
   "source": [
    "FOR ALL SHOOTING THAT IS EMPTY, FILL IT UP WITH 0 MEANING NO SHOOTING HAPPENED THERE AND FOR EVERY ROW WITH 'Y' REPLACE WITH 1\n",
    "SINCE THE DATA SAID 'Y' MEANS SHOOTING OCCURRED "
   ]
  },
  {
   "cell_type": "code",
   "execution_count": 11,
   "id": "6f185a10",
   "metadata": {},
   "outputs": [],
   "source": [
    "crime['SHOOTING']= crime['SHOOTING'].fillna(0)\n",
    "crime['SHOOTING'].replace('Y',1, inplace=True)"
   ]
  },
  {
   "cell_type": "markdown",
   "id": "5ece99fd",
   "metadata": {},
   "source": [
    "DROP EVERY OTHER EMPTY ROW TO HAVE A CLEAN DATA"
   ]
  },
  {
   "cell_type": "code",
   "execution_count": 12,
   "id": "7a2e38db",
   "metadata": {},
   "outputs": [],
   "source": [
    "crime.dropna(inplace=True)"
   ]
  },
  {
   "cell_type": "code",
   "execution_count": 13,
   "id": "c20ef37a",
   "metadata": {},
   "outputs": [
    {
     "data": {
      "text/plain": [
       "INCIDENT_NUMBER        0\n",
       "OFFENSE_CODE           0\n",
       "OFFENSE_CODE_GROUP     0\n",
       "OFFENSE_DESCRIPTION    0\n",
       "DISTRICT               0\n",
       "REPORTING_AREA         0\n",
       "SHOOTING               0\n",
       "OCCURRED_ON_DATE       0\n",
       "YEAR                   0\n",
       "MONTH                  0\n",
       "DAY_OF_WEEK            0\n",
       "HOUR                   0\n",
       "UCR_PART               0\n",
       "STREET                 0\n",
       "Lat                    0\n",
       "Long                   0\n",
       "Location               0\n",
       "dtype: int64"
      ]
     },
     "execution_count": 13,
     "metadata": {},
     "output_type": "execute_result"
    }
   ],
   "source": [
    "crime.isnull().sum()"
   ]
  },
  {
   "cell_type": "markdown",
   "id": "c84a58f0",
   "metadata": {},
   "source": [
    "CHECK THE TOTAL INFORMATION OF THE DATA USING INFO(). CHECKING THE COLUMN NAME, THE TYPE OF DATA OBTAINED IN THE COLUMN, HOW MANY ROWS AND NULL VALUES "
   ]
  },
  {
   "cell_type": "code",
   "execution_count": 14,
   "id": "b6bc3173",
   "metadata": {
    "scrolled": true
   },
   "outputs": [
    {
     "name": "stdout",
     "output_type": "stream",
     "text": [
      "<class 'pandas.core.frame.DataFrame'>\n",
      "Int64Index: 296573 entries, 0 to 319072\n",
      "Data columns (total 17 columns):\n",
      " #   Column               Non-Null Count   Dtype         \n",
      "---  ------               --------------   -----         \n",
      " 0   INCIDENT_NUMBER      296573 non-null  object        \n",
      " 1   OFFENSE_CODE         296573 non-null  int64         \n",
      " 2   OFFENSE_CODE_GROUP   296573 non-null  object        \n",
      " 3   OFFENSE_DESCRIPTION  296573 non-null  object        \n",
      " 4   DISTRICT             296573 non-null  object        \n",
      " 5   REPORTING_AREA       296573 non-null  object        \n",
      " 6   SHOOTING             296573 non-null  int64         \n",
      " 7   OCCURRED_ON_DATE     296573 non-null  datetime64[ns]\n",
      " 8   YEAR                 296573 non-null  int64         \n",
      " 9   MONTH                296573 non-null  int64         \n",
      " 10  DAY_OF_WEEK          296573 non-null  object        \n",
      " 11  HOUR                 296573 non-null  int64         \n",
      " 12  UCR_PART             296573 non-null  object        \n",
      " 13  STREET               296573 non-null  object        \n",
      " 14  Lat                  296573 non-null  float64       \n",
      " 15  Long                 296573 non-null  float64       \n",
      " 16  Location             296573 non-null  object        \n",
      "dtypes: datetime64[ns](1), float64(2), int64(5), object(9)\n",
      "memory usage: 40.7+ MB\n"
     ]
    }
   ],
   "source": [
    "crime.info()"
   ]
  },
  {
   "cell_type": "markdown",
   "id": "b062fcf5",
   "metadata": {},
   "source": [
    "CHECK THE STATISTICS WITH '.DESCRIBE() OF THE DATA TO UNDERSTAND ITS DISTRIBUTION "
   ]
  },
  {
   "cell_type": "code",
   "execution_count": 15,
   "id": "b2d10d10",
   "metadata": {},
   "outputs": [
    {
     "data": {
      "text/html": [
       "<div>\n",
       "<style scoped>\n",
       "    .dataframe tbody tr th:only-of-type {\n",
       "        vertical-align: middle;\n",
       "    }\n",
       "\n",
       "    .dataframe tbody tr th {\n",
       "        vertical-align: top;\n",
       "    }\n",
       "\n",
       "    .dataframe thead th {\n",
       "        text-align: right;\n",
       "    }\n",
       "</style>\n",
       "<table border=\"1\" class=\"dataframe\">\n",
       "  <thead>\n",
       "    <tr style=\"text-align: right;\">\n",
       "      <th></th>\n",
       "      <th>OFFENSE_CODE</th>\n",
       "      <th>SHOOTING</th>\n",
       "      <th>YEAR</th>\n",
       "      <th>MONTH</th>\n",
       "      <th>HOUR</th>\n",
       "      <th>Lat</th>\n",
       "      <th>Long</th>\n",
       "    </tr>\n",
       "  </thead>\n",
       "  <tbody>\n",
       "    <tr>\n",
       "      <th>count</th>\n",
       "      <td>296573.000000</td>\n",
       "      <td>296573.000000</td>\n",
       "      <td>296573.000000</td>\n",
       "      <td>296573.000000</td>\n",
       "      <td>296573.000000</td>\n",
       "      <td>296573.000000</td>\n",
       "      <td>296573.000000</td>\n",
       "    </tr>\n",
       "    <tr>\n",
       "      <th>mean</th>\n",
       "      <td>2293.856737</td>\n",
       "      <td>0.003274</td>\n",
       "      <td>2016.550954</td>\n",
       "      <td>6.611856</td>\n",
       "      <td>13.124576</td>\n",
       "      <td>42.300079</td>\n",
       "      <td>-71.046943</td>\n",
       "    </tr>\n",
       "    <tr>\n",
       "      <th>std</th>\n",
       "      <td>1182.909512</td>\n",
       "      <td>0.057126</td>\n",
       "      <td>1.001118</td>\n",
       "      <td>3.279314</td>\n",
       "      <td>6.278383</td>\n",
       "      <td>0.981040</td>\n",
       "      <td>1.586477</td>\n",
       "    </tr>\n",
       "    <tr>\n",
       "      <th>min</th>\n",
       "      <td>111.000000</td>\n",
       "      <td>0.000000</td>\n",
       "      <td>2015.000000</td>\n",
       "      <td>1.000000</td>\n",
       "      <td>0.000000</td>\n",
       "      <td>-1.000000</td>\n",
       "      <td>-71.178674</td>\n",
       "    </tr>\n",
       "    <tr>\n",
       "      <th>25%</th>\n",
       "      <td>802.000000</td>\n",
       "      <td>0.000000</td>\n",
       "      <td>2016.000000</td>\n",
       "      <td>4.000000</td>\n",
       "      <td>9.000000</td>\n",
       "      <td>42.297521</td>\n",
       "      <td>-71.097223</td>\n",
       "    </tr>\n",
       "    <tr>\n",
       "      <th>50%</th>\n",
       "      <td>2907.000000</td>\n",
       "      <td>0.000000</td>\n",
       "      <td>2017.000000</td>\n",
       "      <td>7.000000</td>\n",
       "      <td>14.000000</td>\n",
       "      <td>42.325574</td>\n",
       "      <td>-71.077562</td>\n",
       "    </tr>\n",
       "    <tr>\n",
       "      <th>75%</th>\n",
       "      <td>3201.000000</td>\n",
       "      <td>0.000000</td>\n",
       "      <td>2017.000000</td>\n",
       "      <td>9.000000</td>\n",
       "      <td>18.000000</td>\n",
       "      <td>42.348624</td>\n",
       "      <td>-71.062529</td>\n",
       "    </tr>\n",
       "    <tr>\n",
       "      <th>max</th>\n",
       "      <td>3831.000000</td>\n",
       "      <td>1.000000</td>\n",
       "      <td>2018.000000</td>\n",
       "      <td>12.000000</td>\n",
       "      <td>23.000000</td>\n",
       "      <td>42.395042</td>\n",
       "      <td>-1.000000</td>\n",
       "    </tr>\n",
       "  </tbody>\n",
       "</table>\n",
       "</div>"
      ],
      "text/plain": [
       "        OFFENSE_CODE       SHOOTING           YEAR          MONTH  \\\n",
       "count  296573.000000  296573.000000  296573.000000  296573.000000   \n",
       "mean     2293.856737       0.003274    2016.550954       6.611856   \n",
       "std      1182.909512       0.057126       1.001118       3.279314   \n",
       "min       111.000000       0.000000    2015.000000       1.000000   \n",
       "25%       802.000000       0.000000    2016.000000       4.000000   \n",
       "50%      2907.000000       0.000000    2017.000000       7.000000   \n",
       "75%      3201.000000       0.000000    2017.000000       9.000000   \n",
       "max      3831.000000       1.000000    2018.000000      12.000000   \n",
       "\n",
       "                HOUR            Lat           Long  \n",
       "count  296573.000000  296573.000000  296573.000000  \n",
       "mean       13.124576      42.300079     -71.046943  \n",
       "std         6.278383       0.981040       1.586477  \n",
       "min         0.000000      -1.000000     -71.178674  \n",
       "25%         9.000000      42.297521     -71.097223  \n",
       "50%        14.000000      42.325574     -71.077562  \n",
       "75%        18.000000      42.348624     -71.062529  \n",
       "max        23.000000      42.395042      -1.000000  "
      ]
     },
     "execution_count": 15,
     "metadata": {},
     "output_type": "execute_result"
    }
   ],
   "source": [
    "crime.describe()"
   ]
  },
  {
   "cell_type": "markdown",
   "id": "71274be4",
   "metadata": {},
   "source": [
    "TOTAL NUMBER OF SHOOTING"
   ]
  },
  {
   "cell_type": "code",
   "execution_count": 16,
   "id": "58e0e764",
   "metadata": {},
   "outputs": [
    {
     "data": {
      "text/plain": [
       "971"
      ]
     },
     "execution_count": 16,
     "metadata": {},
     "output_type": "execute_result"
    }
   ],
   "source": [
    "crime['SHOOTING'].sum()"
   ]
  },
  {
   "cell_type": "markdown",
   "id": "02bd078d",
   "metadata": {},
   "source": [
    "EXPLORING THE DATA BY GROUPING THE SHOOTING INTO YEARS TO UNDERSTAND THE SHOOTING PER YEAR "
   ]
  },
  {
   "cell_type": "code",
   "execution_count": 18,
   "id": "58d8ed5e",
   "metadata": {},
   "outputs": [
    {
     "data": {
      "text/html": [
       "<div>\n",
       "<style scoped>\n",
       "    .dataframe tbody tr th:only-of-type {\n",
       "        vertical-align: middle;\n",
       "    }\n",
       "\n",
       "    .dataframe tbody tr th {\n",
       "        vertical-align: top;\n",
       "    }\n",
       "\n",
       "    .dataframe thead th {\n",
       "        text-align: right;\n",
       "    }\n",
       "</style>\n",
       "<table border=\"1\" class=\"dataframe\">\n",
       "  <thead>\n",
       "    <tr style=\"text-align: right;\">\n",
       "      <th></th>\n",
       "      <th>OFFENSE_CODE</th>\n",
       "      <th>SHOOTING</th>\n",
       "      <th>MONTH</th>\n",
       "      <th>HOUR</th>\n",
       "      <th>Lat</th>\n",
       "      <th>Long</th>\n",
       "    </tr>\n",
       "    <tr>\n",
       "      <th>YEAR</th>\n",
       "      <th></th>\n",
       "      <th></th>\n",
       "      <th></th>\n",
       "      <th></th>\n",
       "      <th></th>\n",
       "      <th></th>\n",
       "    </tr>\n",
       "  </thead>\n",
       "  <tbody>\n",
       "    <tr>\n",
       "      <th>2018</th>\n",
       "      <td>141822607</td>\n",
       "      <td>169</td>\n",
       "      <td>283196</td>\n",
       "      <td>795421</td>\n",
       "      <td>2.569542e+06</td>\n",
       "      <td>-4.315833e+06</td>\n",
       "    </tr>\n",
       "    <tr>\n",
       "      <th>2015</th>\n",
       "      <td>111595060</td>\n",
       "      <td>178</td>\n",
       "      <td>470094</td>\n",
       "      <td>666387</td>\n",
       "      <td>2.164921e+06</td>\n",
       "      <td>-3.636112e+06</td>\n",
       "    </tr>\n",
       "    <tr>\n",
       "      <th>2016</th>\n",
       "      <td>209300743</td>\n",
       "      <td>267</td>\n",
       "      <td>598184</td>\n",
       "      <td>1205624</td>\n",
       "      <td>3.872388e+06</td>\n",
       "      <td>-6.504058e+06</td>\n",
       "    </tr>\n",
       "    <tr>\n",
       "      <th>2017</th>\n",
       "      <td>217577564</td>\n",
       "      <td>357</td>\n",
       "      <td>609424</td>\n",
       "      <td>1224963</td>\n",
       "      <td>3.938209e+06</td>\n",
       "      <td>-6.614602e+06</td>\n",
       "    </tr>\n",
       "  </tbody>\n",
       "</table>\n",
       "</div>"
      ],
      "text/plain": [
       "      OFFENSE_CODE  SHOOTING   MONTH     HOUR           Lat          Long\n",
       "YEAR                                                                     \n",
       "2018     141822607       169  283196   795421  2.569542e+06 -4.315833e+06\n",
       "2015     111595060       178  470094   666387  2.164921e+06 -3.636112e+06\n",
       "2016     209300743       267  598184  1205624  3.872388e+06 -6.504058e+06\n",
       "2017     217577564       357  609424  1224963  3.938209e+06 -6.614602e+06"
      ]
     },
     "execution_count": 18,
     "metadata": {},
     "output_type": "execute_result"
    }
   ],
   "source": [
    "shooting_rate=crime.groupby('YEAR').sum()\n",
    "shooting_rate.sort_values('SHOOTING',ascending=True, inplace=True)\n",
    "shooting_rate.head()"
   ]
  },
  {
   "cell_type": "markdown",
   "id": "76850ac9",
   "metadata": {},
   "source": [
    "TO KNOW THE MOST COMMITTED CRIME, I USED VALUE COUNT AND ILOC TO GET THE 10 MOST COMMITTED CRIME."
   ]
  },
  {
   "cell_type": "code",
   "execution_count": 19,
   "id": "866a6b65",
   "metadata": {},
   "outputs": [],
   "source": [
    "most_offence=crime.OFFENSE_DESCRIPTION.value_counts().iloc[:10].sort_values()"
   ]
  },
  {
   "cell_type": "code",
   "execution_count": 20,
   "id": "6f5b1d98",
   "metadata": {},
   "outputs": [
    {
     "data": {
      "text/plain": [
       "THREATS TO DO BODILY HARM                 8786\n",
       "LARCENY THEFT FROM BUILDING               8870\n",
       "INVESTIGATE PROPERTY                     10594\n",
       "TOWED MOTOR VEHICLE                      10736\n",
       "VERBAL DISPUTE                           12947\n",
       "ASSAULT SIMPLE - BATTERY                 13869\n",
       "M/V - LEAVING SCENE - PROPERTY DAMAGE    14370\n",
       "VANDALISM                                14597\n",
       "SICK/INJURED/MEDICAL - PERSON            17820\n",
       "INVESTIGATE PERSON                       17973\n",
       "Name: OFFENSE_DESCRIPTION, dtype: int64"
      ]
     },
     "execution_count": 20,
     "metadata": {},
     "output_type": "execute_result"
    }
   ],
   "source": [
    "most_offence"
   ]
  },
  {
   "cell_type": "markdown",
   "id": "88a3e501",
   "metadata": {},
   "source": [
    "TO EXPLORE IT MORE, TURN THE 10 MOST COMMITTED CRIME INTO A DATA OF ITS OWN NAMED (FIRST_10_CRIME). \n",
    "NOW USED THE FIRST_10_CRIME AND THE ILOC DATA TO MAKE A BAR CHART"
   ]
  },
  {
   "cell_type": "code",
   "execution_count": 21,
   "id": "c1d1ce48",
   "metadata": {},
   "outputs": [
    {
     "data": {
      "text/plain": [
       "('THREATS TO DO BODILY HARM',\n",
       " 'LARCENY THEFT FROM BUILDING',\n",
       " 'INVESTIGATE PROPERTY',\n",
       " 'TOWED MOTOR VEHICLE',\n",
       " 'VERBAL DISPUTE',\n",
       " 'ASSAULT SIMPLE - BATTERY ',\n",
       " 'VANDALISM',\n",
       " 'M/V - LEAVING SCENE - PROPERTY DAMAGE',\n",
       " 'SICK/INJURED/MEDICAL - PERSON',\n",
       " 'INVESTIGATE PERSON')"
      ]
     },
     "execution_count": 21,
     "metadata": {},
     "output_type": "execute_result"
    }
   ],
   "source": [
    "first_10_crime=(\"THREATS TO DO BODILY HARM\",\"LARCENY THEFT FROM BUILDING\", \"INVESTIGATE PROPERTY\",\"TOWED MOTOR VEHICLE\", \"VERBAL DISPUTE\",\"ASSAULT SIMPLE - BATTERY \", \"VANDALISM\",\"M/V - LEAVING SCENE - PROPERTY DAMAGE\",\"SICK/INJURED/MEDICAL - PERSON\", \"INVESTIGATE PERSON\")\n",
    "first_10_crime"
   ]
  },
  {
   "cell_type": "markdown",
   "id": "6b9ec25e",
   "metadata": {},
   "source": [
    "USING MATPLOT TO PLOT THE BAR CHART NAMING IT CRIMES THAT ARE FREQUENTLY COMMITTED"
   ]
  },
  {
   "cell_type": "code",
   "execution_count": 23,
   "id": "df07cfb9",
   "metadata": {},
   "outputs": [
    {
     "data": {
      "image/png": "[encoded data removed]",
      "text/plain": [
       "<Figure size 936x576 with 1 Axes>"
      ]
     },
     "metadata": {
      "needs_background": "light"
     },
     "output_type": "display_data"
    }
   ],
   "source": [
    "fig=plt.figure(figsize=(13,8))\n",
    "plt.xlabel(\"THEIR NUMBERS\", fontsize=20)\n",
    "plt.ylabel(\"HIGHEST CRIMES COMMITTED\", fontsize=14)\n",
    "plt.title(\"CRIMES THAT ARE FREQUENTLY COMMITTED\", fontsize=20)\n",
    "plt.barh(first_10_crime,most_offence, color=\"gray\", ec=\"green\")\n",
    "plt.show()"
   ]
  },
  {
   "cell_type": "markdown",
   "id": "ae29ceca",
   "metadata": {},
   "source": [
    "INVESTIGATE PERSON AND SICK/INJURED/MEDICAL - PERSON ARE LEADING THE RACE IN THE  MOST COMMITTED CRIME DATA"
   ]
  },
  {
   "cell_type": "markdown",
   "id": "4e847090",
   "metadata": {},
   "source": [
    "GETTING THE STREET THAT ARE CRIME PRONE USING ILOC, MAKING THE STREET A DATA OF ITS OWN AND PLOTTING IT IN A BAR CHART"
   ]
  },
  {
   "cell_type": "code",
   "execution_count": 25,
   "id": "252c5bc4",
   "metadata": {},
   "outputs": [
    {
     "data": {
      "text/plain": [
       "HYDE PARK AVE         3401\n",
       "COMMONWEALTH AVE      3865\n",
       "HARRISON AVE          4274\n",
       "CENTRE ST             4284\n",
       "MASSACHUSETTS AVE     4392\n",
       "TREMONT ST            4663\n",
       "DORCHESTER AVE        5007\n",
       "BOYLSTON ST           6939\n",
       "BLUE HILL AVE         6988\n",
       "WASHINGTON ST        14107\n",
       "Name: STREET, dtype: int64"
      ]
     },
     "execution_count": 25,
     "metadata": {},
     "output_type": "execute_result"
    }
   ],
   "source": [
    "most_offence1=crime.STREET.value_counts().iloc[:10].sort_values()\n",
    "most_offence1"
   ]
  },
  {
   "cell_type": "code",
   "execution_count": 24,
   "id": "cdc0300a",
   "metadata": {},
   "outputs": [],
   "source": [
    "street=('HYDE PARK AVE','COMMONWEALTH AVE', 'CENTRE ST','HARRISON AVE', 'MASSACHUSETTS AVE', 'TREMONT ST', 'DORCHESTER AVE', 'BOYLSTON ST', 'BLUE HILL AVE', 'WASHINGTON ST', )"
   ]
  },
  {
   "cell_type": "code",
   "execution_count": 26,
   "id": "7d230ead",
   "metadata": {},
   "outputs": [
    {
     "data": {
      "image/png": "[encoded data removed]",
      "text/plain": [
       "<Figure size 720x432 with 1 Axes>"
      ]
     },
     "metadata": {
      "needs_background": "light"
     },
     "output_type": "display_data"
    }
   ],
   "source": [
    "fig=plt.figure(figsize=(10,6))\n",
    "plt.xlabel(\"THEIR NUMBERS\", fontsize=12)\n",
    "plt.ylabel(\"STREET WITH HIGHEST CRIME RATE\", fontsize=12)\n",
    "plt.title(\"STREETS WITH HIGH CRIME RATE\", fontsize=15)\n",
    "plt.barh(street,most_offence1, color=\"red\", ec=\"green\")\n",
    "plt.show()"
   ]
  },
  {
   "cell_type": "markdown",
   "id": "b2254015",
   "metadata": {},
   "source": [
    "WASHINGTON STREET AND BLUE HILL AVENUE IS LEADING THE RACE IN THE STREET WITH HIGHEST CRIME RATE. "
   ]
  },
  {
   "cell_type": "markdown",
   "id": "6ab6a6eb",
   "metadata": {},
   "source": [
    "LOOKING AT THE SHOOTING DISTRIBUTION IN THE FOUR YEARS, MORE SHOOTING HAPPENED IN 2017 THAT ANY OTHER YEAR. "
   ]
  },
  {
   "cell_type": "code",
   "execution_count": 27,
   "id": "4f785821",
   "metadata": {},
   "outputs": [
    {
     "data": {
      "text/plain": [
       "<AxesSubplot:title={'center':'YEAR WITH HIGHEST SHOOTING'}, xlabel='YEAR'>"
      ]
     },
     "execution_count": 27,
     "metadata": {},
     "output_type": "execute_result"
    },
    {
     "data": {
      "image/png": "[encoded data removed]",
      "text/plain": [
       "<Figure size 432x288 with 1 Axes>"
      ]
     },
     "metadata": {
      "needs_background": "light"
     },
     "output_type": "display_data"
    }
   ],
   "source": [
    "shooting_rate['SHOOTING'].head(4).plot.bar(color='red', title=\"YEAR WITH HIGHEST SHOOTING\")"
   ]
  },
  {
   "cell_type": "markdown",
   "id": "b00160a6",
   "metadata": {},
   "source": [
    "EXPLORING THE MONTH WITH HIGH CRIME RATE. \n",
    "FIRST USE ILOC AND VALUE COUNT TO GET THE MONTH WITH HIGH CRIME RATE. \n",
    "MAKE THE MONTHS WITH HIGHEST CRIME A DATA OF ITS OWN \n",
    "PLOT THE BAR CHART OF THE MONTH VALUE COUNT TO THE NEW DATA CREATED.\n",
    "\n",
    "OBSERVATION: JUNE, JULY AND AUGUST HAS THE HIGHEST AMOUNT OF CRIME WHILE NOVEMBER, JANUARY AND MARCH HAS\n",
    "THE LOWEST AMOUNT OF CRIME"
   ]
  },
  {
   "cell_type": "code",
   "execution_count": 28,
   "id": "a7049a72",
   "metadata": {},
   "outputs": [
    {
     "data": {
      "text/plain": [
       "11    22091\n",
       "1     22187\n",
       "3     22273\n",
       "4     22410\n",
       "10    23874\n",
       "5     24219\n",
       "9     24662\n",
       "6     28496\n",
       "7     32050\n",
       "8     32205\n",
       "Name: MONTH, dtype: int64"
      ]
     },
     "execution_count": 28,
     "metadata": {},
     "output_type": "execute_result"
    }
   ],
   "source": [
    "month=crime.MONTH.value_counts().iloc[:10].sort_values()\n",
    "month"
   ]
  },
  {
   "cell_type": "code",
   "execution_count": 29,
   "id": "b49466b8",
   "metadata": {},
   "outputs": [],
   "source": [
    "month_of_crime=['nov', 'jan', 'mar','apr', 'oct', 'may', 'sep', 'jun', 'jul', 'aug']"
   ]
  },
  {
   "cell_type": "code",
   "execution_count": 30,
   "id": "5b52fecd",
   "metadata": {},
   "outputs": [
    {
     "data": {
      "image/png": "[encoded data removed]",
      "text/plain": [
       "<Figure size 720x432 with 1 Axes>"
      ]
     },
     "metadata": {
      "needs_background": "light"
     },
     "output_type": "display_data"
    }
   ],
   "source": [
    "fig=plt.figure(figsize=(10,6))\n",
    "plt.xlabel(\"THE MONTHS\", fontsize=12)\n",
    "plt.ylabel(\"THEIR NUMBERS\", fontsize=12)\n",
    "plt.title('MONTHS WITH HIGH CRIME RATE', fontsize=15)\n",
    "plt.bar(month_of_crime,month, color=\"green\", ec=\"green\")\n",
    "plt.show()"
   ]
  },
  {
   "cell_type": "markdown",
   "id": "e0b37263",
   "metadata": {},
   "source": [
    "EXPLORING THE DAY WITH HIGH CRIME RATE. FIRST USE ILOC AND VALUE COUNT TO GET THE DAY AND THEIR CRIME RATE. \n",
    "MAKE THE DAYS WITH THEIR CRIME RATE A DATA OF ITS OWN PLOT THE BAR CHART OF THE DAYS VALUE COUNT TO THE NEW DATA CREATED.\n",
    "\n",
    "OBSERVATION: FRIDAY, WEDNESDAY AND THURSDAY HAS THE HIGHEST AMOUNT OF CRIME WHILE SUNDAY,\n",
    "SATURDAY AND MONDAY HAS THE LOWEST AMOUNT OF CRIME"
   ]
  },
  {
   "cell_type": "code",
   "execution_count": 31,
   "id": "7208c1b0",
   "metadata": {},
   "outputs": [
    {
     "data": {
      "text/plain": [
       "Sunday       37677\n",
       "Saturday     41569\n",
       "Monday       42469\n",
       "Tuesday      42997\n",
       "Thursday     43283\n",
       "Wednesday    43445\n",
       "Friday       45133\n",
       "Name: DAY_OF_WEEK, dtype: int64"
      ]
     },
     "execution_count": 31,
     "metadata": {},
     "output_type": "execute_result"
    }
   ],
   "source": [
    "day=crime.DAY_OF_WEEK.value_counts().iloc[:10].sort_values()\n",
    "day"
   ]
  },
  {
   "cell_type": "code",
   "execution_count": 32,
   "id": "36a39e19",
   "metadata": {},
   "outputs": [],
   "source": [
    "day_with_high_crime=['sun', 'sat', 'mon', 'tue', 'thur', 'wed', 'fri']"
   ]
  },
  {
   "cell_type": "code",
   "execution_count": 33,
   "id": "4dca35e2",
   "metadata": {},
   "outputs": [
    {
     "data": {
      "image/png": "[encoded data removed]",
      "text/plain": [
       "<Figure size 720x432 with 1 Axes>"
      ]
     },
     "metadata": {
      "needs_background": "light"
     },
     "output_type": "display_data"
    }
   ],
   "source": [
    "fig=plt.figure(figsize=(10,6))\n",
    "plt.xlabel(\"THE DAYS\", fontsize=12)\n",
    "plt.ylabel(\"THEIR NUMBERS\", fontsize=12)\n",
    "plt.title('DAYS WITH HIGH CRIME RATE', fontsize=15)\n",
    "plt.bar(day_with_high_crime,day, color=\"black\", ec=\"green\")\n",
    "plt.show()"
   ]
  },
  {
   "cell_type": "markdown",
   "id": "9d119acb",
   "metadata": {},
   "source": [
    "EXPLORING THE TIME WITH HIGH CRIME RATE. FIRST USE ILOC AND VALUE COUNT TO GET THE TIME AND THEIR CRIME RATE.\n",
    "MAKE THE TIME WITH THEIR CRIME RATE A DATA OF ITS OWN PLOT THE BAR CHART OF THE TIME VALUE COUNT TO THE NEW DATA CREATED.\n",
    "\n",
    "OBSERVATION: 4PM-6PM HAS THE HIGHEST AMOUNT OF CRIME "
   ]
  },
  {
   "cell_type": "code",
   "execution_count": 34,
   "id": "cbf26113",
   "metadata": {},
   "outputs": [
    {
     "data": {
      "text/plain": [
       "15    15401\n",
       "11    15414\n",
       "10    15420\n",
       "13    15769\n",
       "14    16026\n",
       "19    16288\n",
       "12    17558\n",
       "16    18420\n",
       "18    18617\n",
       "17    18982\n",
       "Name: HOUR, dtype: int64"
      ]
     },
     "execution_count": 34,
     "metadata": {},
     "output_type": "execute_result"
    }
   ],
   "source": [
    "time=crime.HOUR.value_counts().iloc[:10].sort_values()\n",
    "time"
   ]
  },
  {
   "cell_type": "code",
   "execution_count": 35,
   "id": "4134664b",
   "metadata": {},
   "outputs": [],
   "source": [
    "time_of_occurrance=['10am', '3pm', '11am', '1pm', '2pm', '7pm', '12pm', '4pm', '6pm', '5pm']"
   ]
  },
  {
   "cell_type": "code",
   "execution_count": 36,
   "id": "9823491a",
   "metadata": {},
   "outputs": [
    {
     "data": {
      "image/png": "[encoded data removed]",
      "text/plain": [
       "<Figure size 720x432 with 1 Axes>"
      ]
     },
     "metadata": {
      "needs_background": "light"
     },
     "output_type": "display_data"
    }
   ],
   "source": [
    "fig=plt.figure(figsize=(10,6))\n",
    "plt.xlabel(\"THE HOURS\", fontsize=12)\n",
    "plt.ylabel(\"THEIR NUMBERS\", fontsize=12)\n",
    "plt.title('HOURS WITH HIGH CRIME RATE', fontsize=15)\n",
    "plt.bar(time_of_occurrance,time, color=\"red\", ec=\"green\")\n",
    "plt.show()"
   ]
  },
  {
   "cell_type": "markdown",
   "id": "d05c49db",
   "metadata": {},
   "source": [
    "DOWNLOADING THE FILE FOR DASHBOARDING BUILDDING IN POWER BI "
   ]
  },
  {
   "cell_type": "code",
   "execution_count": 37,
   "id": "e60e246f",
   "metadata": {},
   "outputs": [],
   "source": [
    "crime.to_csv('C:\\\\Users\\\\user\\\\Downloads\\\\crime2.csv')"
   ]
  }
 ],
 "metadata": {
  "kernelspec": {
   "display_name": "Python 3 (ipykernel)",
   "language": "python",
   "name": "python3"
  },
  "language_info": {
   "codemirror_mode": {
    "name": "ipython",
    "version": 3
   },
   "file_extension": ".py",
   "mimetype": "text/x-python",
   "name": "python",
   "nbconvert_exporter": "python",
   "pygments_lexer": "ipython3",
   "version": "3.9.7"
  }
 },
 "nbformat": 4,
 "nbformat_minor": 5
}
